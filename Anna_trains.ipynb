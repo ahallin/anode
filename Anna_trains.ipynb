{
 "cells": [
  {
   "cell_type": "code",
   "execution_count": 1,
   "metadata": {},
   "outputs": [],
   "source": [
    "import numpy as np\n",
    "import pandas as pd\n",
    "import matplotlib.pyplot as plt\n",
    "\n",
    "# The top-level PyTorch package and tensor library\n",
    "import torch \n",
    "\n",
    "# A subpackage that contains modules and extensible \n",
    "# classes for building neural networks. \n",
    "import torch.nn as nn\n",
    "\n",
    "# A subpackage that contains standard optimization \n",
    "# operations like SGD and Adam. \n",
    "import torch.optim as optim\n",
    "\n",
    "# A functional interface that contains typical operations \n",
    "# used for building neural networks like loss functions \n",
    "# and convolutions. \n",
    "import torch.nn.functional as F\n",
    "\n",
    "from tqdm import tqdm # progress meter\n",
    "import flows as fnn # imports the module flows.py, which you have in this directory"
   ]
  },
  {
   "cell_type": "markdown",
   "metadata": {},
   "source": [
    "# Create data "
   ]
  },
  {
   "cell_type": "code",
   "execution_count": 2,
   "metadata": {},
   "outputs": [
    {
     "name": "stdout",
     "output_type": "stream",
     "text": [
      "(30000, 2)\n"
     ]
    }
   ],
   "source": [
    "mu, sigma = 0, np.array([0.1,0.2,0.5]) # mean and standard deviation\n",
    "pts = 10000 # number of data points\n",
    "\n",
    "def p(i):\n",
    "    rand = np.random.normal(mu, sigma[i], pts)\n",
    "    stack = np.dstack((rand, sigma[i]*np.ones(len(rand))))\n",
    "    return stack.reshape(-1,2)\n",
    "\n",
    "#vecp = np.vectorize(p) THIS DOES NOT WORK pga ORDER OF OPERATIONS\n",
    "\n",
    "datan = np.vstack((p(0),p(1),p(2)))\n",
    "\n",
    "print(np.shape(datan))"
   ]
  },
  {
   "cell_type": "markdown",
   "metadata": {},
   "source": [
    "## Plot data "
   ]
  },
  {
   "cell_type": "code",
   "execution_count": 3,
   "metadata": {},
   "outputs": [
    {
     "data": {
      "image/png": "[encoded data removed]",
      "text/plain": [
       "<Figure size 432x288 with 1 Axes>"
      ]
     },
     "metadata": {
      "needs_background": "light"
     },
     "output_type": "display_data"
    }
   ],
   "source": [
    "plt.hist(datan[20000:30000,0], bins = 100, fc=(1, 0, 0, 0.5), alpha=0.3, label='0.5')\n",
    "plt.hist(datan[10000:20000,0], bins = 100, fc=(0, 1, 1, 0.5), alpha=0.2, label='0.2')\n",
    "plt.hist(datan[:10000,0], bins = 50, fc=(1, 0, 1, 0.5), alpha=0.2, label='0.1')\n",
    "plt.xlim(-1,1)\n",
    "plt.legend(loc='upper right')\n",
    "plt.ylabel('Events')\n",
    "plt.show()"
   ]
  },
  {
   "cell_type": "markdown",
   "metadata": {},
   "source": [
    "## Pre-process data "
   ]
  },
  {
   "cell_type": "code",
   "execution_count": 4,
   "metadata": {},
   "outputs": [],
   "source": [
    "'''Indices and shuffling'''\n",
    "\n",
    "# Create an array of indices, of length data, and shuffle it\n",
    "indices = np.array(range(len(datan))).astype('int') \n",
    "np.random.shuffle(indices)\n",
    "# print(indices[:10],len(indices)) -- ok it works\n",
    "\n",
    "datan = datan[indices] \n",
    "# print(datan[:10]) -- ok it works\n"
   ]
  },
  {
   "cell_type": "code",
   "execution_count": 5,
   "metadata": {},
   "outputs": [],
   "source": [
    "''' Data Sets and Data Loaders'''\n",
    "\n",
    "batch_size = 256\n",
    "\n",
    "labels = torch.from_numpy(datan[:,1:2])\n",
    "prob_data = torch.from_numpy(datan[:,0:1])\n",
    "\n",
    "dataset = torch.utils.data.TensorDataset(prob_data, labels)\n",
    "# Compared to anode: \n",
    "# The first argument is x (probably density data) and the second \n",
    "# is mjj (conditioned data)\n",
    "\n",
    "loader = torch.utils.data.DataLoader(\n",
    "    dataset, batch_size=batch_size, shuffle=True)\n",
    "\n",
    "num_inputs = prob_data.shape[-1]\n",
    "num_cond_inputs = labels.shape[-1]"
   ]
  },
  {
   "cell_type": "markdown",
   "metadata": {},
   "source": [
    "# Define and train the model"
   ]
  },
  {
   "cell_type": "code",
   "execution_count": 6,
   "metadata": {},
   "outputs": [
    {
     "name": "stdout",
     "output_type": "stream",
     "text": [
      "MAF pars 15 128\n"
     ]
    }
   ],
   "source": [
    "''' ====================================================================== '''\n",
    "''' model parameters '''\n",
    "''' ====================================================================== '''\n",
    "\n",
    "flow='maf' # MAF is what is being used in the training\n",
    "batch_size = 256\n",
    "test_batch_size = 10*batch_size\n",
    "num_blocks = 15\n",
    "num_hidden = 128\n",
    "lr = 1e-4 # I assume this is learning rate\n",
    "\n",
    "print('MAF pars',num_blocks,num_hidden)\n",
    "\n",
    "CUDA = False #CUDA is a parallel computing platform and application programming interface model created by Nvidia. It allows software developers and software engineers to use a CUDA-enabled graphics processing unit for general purpose processing\n",
    "device = torch.device(\"cuda:0\" if CUDA else \"cpu\")\n",
    "\n",
    "kwargs = {'num_workers': 4, 'pin_memory': True} if CUDA else {}\n",
    "kwargs = {}"
   ]
  },
  {
   "cell_type": "code",
   "execution_count": 7,
   "metadata": {},
   "outputs": [],
   "source": [
    "''' ====================================================================== '''\n",
    "''' define training function '''\n",
    "''' ====================================================================== '''\n",
    "\n",
    "global_step = 0\n",
    "\n",
    "def train(epoch):\n",
    "    global global_step\n",
    "    model.train() \n",
    "    train_loss = 0\n",
    "\n",
    "    # make your loops show a smart progress meter - just wrap any iterable with tqdm(iterable)\n",
    "    pbar = tqdm(total=len(loader.dataset)) \n",
    "    \n",
    "    for batch_idx, data in enumerate(loader):\n",
    "        if isinstance(data, list):\n",
    "            if len(data) > 1:\n",
    "                cond_data = data[1].float() # Assigns the 2nd element in data as the conditioned data\n",
    "                cond_data = cond_data.to(device) # Sends conditioned data to the GPU\n",
    "            else:\n",
    "                cond_data = None\n",
    "\n",
    "            data = data[0] # Assigns the 1st element in data as the data points\n",
    "        data = data.to(device) # Sends the data to the GPU\n",
    "\n",
    "        optimizer.zero_grad() # need to set the gradients to zero before starting to do backpropragation because PyTorch accumulates the gradients on subsequent backward passes.\n",
    "        # print(data, cond_data)\n",
    "        loss = -model.log_probs(data, cond_data).mean()\n",
    "        train_loss += loss.item()\n",
    "        loss.backward()\n",
    "        optimizer.step()\n",
    "\n",
    "        pbar.update(data.size(0))\n",
    "        pbar.set_description('Train, Log likelihood in nats: {:.6f}'.format(\n",
    "            -train_loss / (batch_idx + 1)))\n",
    "\n",
    "        global_step += 1\n",
    "\n",
    "    pbar.close()\n",
    "\n",
    "    for module in model.modules():\n",
    "        if isinstance(module, fnn.BatchNormFlow):\n",
    "            module.momentum = 0\n",
    "\n",
    "    # The with statement itself ensures proper acquisition and release of resources.        \n",
    "    # Disabling gradient calculation is useful for inference, when you are sure that you will not call Tensor.backward(). It will reduce memory consumption for computations that would otherwise have requires_grad=True.\n",
    "    with torch.no_grad(): \n",
    "        model(loader.dataset.tensors[0].to(data.device),\n",
    "            loader.dataset.tensors[1].to(data.device).float())\n",
    "\n",
    "    # If you want to recursively iterate over modules, then you want to use .modules()    \n",
    "    for module in model.modules():\n",
    "        if isinstance(module, fnn.BatchNormFlow):\n",
    "            module.momentum = 1"
   ]
  },
  {
   "cell_type": "code",
   "execution_count": null,
   "metadata": {},
   "outputs": [],
   "source": [
    "''' ====================================================================== '''\n",
    "''' Define model '''\n",
    "''' ====================================================================== '''\n",
    "\n",
    "act = 'relu'\n",
    "\n",
    "modules = []\n",
    "for _ in range(num_blocks):\n",
    "    modules += [\n",
    "        fnn.MADE(num_inputs, num_hidden, num_cond_inputs, act=act),\n",
    "        fnn.BatchNormFlow(num_inputs),\n",
    "        fnn.Reverse(num_inputs)\n",
    "    ]\n",
    "\n",
    "model = fnn.FlowSequential(*modules)\n",
    "for module in model.modules():\n",
    "    if isinstance(module, nn.Linear):\n",
    "        nn.init.orthogonal_(module.weight)\n",
    "        if hasattr(module, 'bias') and module.bias is not None:\n",
    "            module.bias.data.fill_(0)\n",
    "model.to(device)\n",
    "    \n",
    "optimizer = optim.Adam(model.parameters(), lr=lr, weight_decay=1e-6)\n",
    "\n"
   ]
  },
  {
   "cell_type": "code",
   "execution_count": null,
   "metadata": {},
   "outputs": [],
   "source": [
    "''' ====================================================================== '''\n",
    "''' Train model '''\n",
    "''' ====================================================================== '''\n",
    "\n",
    "epochs = 3\n",
    "\n",
    "for epoch in range(epochs):\n",
    "    print('\\nEpoch: {}'.format(epoch))\n",
    "    train(epoch)\n",
    "    torch.save(model.state_dict(),modellen+\"_\"+label+\"_epoch_\"+str(epoch)+\".par\")\n"
   ]
  },
  {
   "cell_type": "markdown",
   "metadata": {},
   "source": [
    "Save the model to use it yourself for inference: You save the model, you restore it, and then you change the model to evaluation mode. This is done because you usually have BatchNorm and Dropout layers that by default are in train mode on construction:\n",
    "\n",
    "torch.save(model.state_dict(), filepath)\n",
    "\n",
    "#Later to restore:\n",
    "\n",
    "model.load_state_dict(torch.load(filepath))\n",
    "\n",
    "model.eval()\n",
    "\n",
    "https://stackoverflow.com/questions/42703500/best-way-to-save-a-trained-model-in-pytorch\n",
    "\n",
    "Du använder filepath=modellen"
   ]
  },
  {
   "cell_type": "markdown",
   "metadata": {},
   "source": [
    "# Old things I've tried "
   ]
  },
  {
   "cell_type": "code",
   "execution_count": 99,
   "metadata": {},
   "outputs": [
    {
     "name": "stdout",
     "output_type": "stream",
     "text": [
      "0 [0.1 0.2 0.5]\n"
     ]
    },
    {
     "ename": "ValueError",
     "evalue": "setting an array element with a sequence.",
     "output_type": "error",
     "traceback": [
      "\u001b[0;31m---------------------------------------------------------------------------\u001b[0m",
      "\u001b[0;31mValueError\u001b[0m                                Traceback (most recent call last)",
      "\u001b[0;32m<ipython-input-99-90a8d66c8eee>\u001b[0m in \u001b[0;36m<module>\u001b[0;34m\u001b[0m\n\u001b[1;32m     14\u001b[0m \u001b[0mvecp\u001b[0m \u001b[0;34m=\u001b[0m \u001b[0mnp\u001b[0m\u001b[0;34m.\u001b[0m\u001b[0mvectorize\u001b[0m\u001b[0;34m(\u001b[0m\u001b[0mp\u001b[0m\u001b[0;34m)\u001b[0m\u001b[0;34m\u001b[0m\u001b[0;34m\u001b[0m\u001b[0m\n\u001b[1;32m     15\u001b[0m \u001b[0;34m\u001b[0m\u001b[0m\n\u001b[0;32m---> 16\u001b[0;31m \u001b[0mdata\u001b[0m \u001b[0;34m=\u001b[0m \u001b[0mvecp\u001b[0m\u001b[0;34m(\u001b[0m\u001b[0msigma\u001b[0m\u001b[0;34m)\u001b[0m\u001b[0;34m\u001b[0m\u001b[0;34m\u001b[0m\u001b[0m\n\u001b[0m\u001b[1;32m     17\u001b[0m \u001b[0;34m\u001b[0m\u001b[0m\n\u001b[1;32m     18\u001b[0m \u001b[0mprint\u001b[0m\u001b[0;34m(\u001b[0m\u001b[0mdata\u001b[0m\u001b[0;34m)\u001b[0m\u001b[0;34m\u001b[0m\u001b[0;34m\u001b[0m\u001b[0m\n",
      "\u001b[0;32m/opt/anaconda3/lib/python3.7/site-packages/numpy/lib/function_base.py\u001b[0m in \u001b[0;36m__call__\u001b[0;34m(self, *args, **kwargs)\u001b[0m\n\u001b[1;32m   2089\u001b[0m             \u001b[0mvargs\u001b[0m\u001b[0;34m.\u001b[0m\u001b[0mextend\u001b[0m\u001b[0;34m(\u001b[0m\u001b[0;34m[\u001b[0m\u001b[0mkwargs\u001b[0m\u001b[0;34m[\u001b[0m\u001b[0m_n\u001b[0m\u001b[0;34m]\u001b[0m \u001b[0;32mfor\u001b[0m \u001b[0m_n\u001b[0m \u001b[0;32min\u001b[0m \u001b[0mnames\u001b[0m\u001b[0;34m]\u001b[0m\u001b[0;34m)\u001b[0m\u001b[0;34m\u001b[0m\u001b[0;34m\u001b[0m\u001b[0m\n\u001b[1;32m   2090\u001b[0m \u001b[0;34m\u001b[0m\u001b[0m\n\u001b[0;32m-> 2091\u001b[0;31m         \u001b[0;32mreturn\u001b[0m \u001b[0mself\u001b[0m\u001b[0;34m.\u001b[0m\u001b[0m_vectorize_call\u001b[0m\u001b[0;34m(\u001b[0m\u001b[0mfunc\u001b[0m\u001b[0;34m=\u001b[0m\u001b[0mfunc\u001b[0m\u001b[0;34m,\u001b[0m \u001b[0margs\u001b[0m\u001b[0;34m=\u001b[0m\u001b[0mvargs\u001b[0m\u001b[0;34m)\u001b[0m\u001b[0;34m\u001b[0m\u001b[0;34m\u001b[0m\u001b[0m\n\u001b[0m\u001b[1;32m   2092\u001b[0m \u001b[0;34m\u001b[0m\u001b[0m\n\u001b[1;32m   2093\u001b[0m     \u001b[0;32mdef\u001b[0m \u001b[0m_get_ufunc_and_otypes\u001b[0m\u001b[0;34m(\u001b[0m\u001b[0mself\u001b[0m\u001b[0;34m,\u001b[0m \u001b[0mfunc\u001b[0m\u001b[0;34m,\u001b[0m \u001b[0margs\u001b[0m\u001b[0;34m)\u001b[0m\u001b[0;34m:\u001b[0m\u001b[0;34m\u001b[0m\u001b[0;34m\u001b[0m\u001b[0m\n",
      "\u001b[0;32m/opt/anaconda3/lib/python3.7/site-packages/numpy/lib/function_base.py\u001b[0m in \u001b[0;36m_vectorize_call\u001b[0;34m(self, func, args)\u001b[0m\n\u001b[1;32m   2168\u001b[0m \u001b[0;34m\u001b[0m\u001b[0m\n\u001b[1;32m   2169\u001b[0m             \u001b[0;32mif\u001b[0m \u001b[0mufunc\u001b[0m\u001b[0;34m.\u001b[0m\u001b[0mnout\u001b[0m \u001b[0;34m==\u001b[0m \u001b[0;36m1\u001b[0m\u001b[0;34m:\u001b[0m\u001b[0;34m\u001b[0m\u001b[0;34m\u001b[0m\u001b[0m\n\u001b[0;32m-> 2170\u001b[0;31m                 \u001b[0mres\u001b[0m \u001b[0;34m=\u001b[0m \u001b[0marray\u001b[0m\u001b[0;34m(\u001b[0m\u001b[0moutputs\u001b[0m\u001b[0;34m,\u001b[0m \u001b[0mcopy\u001b[0m\u001b[0;34m=\u001b[0m\u001b[0;32mFalse\u001b[0m\u001b[0;34m,\u001b[0m \u001b[0msubok\u001b[0m\u001b[0;34m=\u001b[0m\u001b[0;32mTrue\u001b[0m\u001b[0;34m,\u001b[0m \u001b[0mdtype\u001b[0m\u001b[0;34m=\u001b[0m\u001b[0motypes\u001b[0m\u001b[0;34m[\u001b[0m\u001b[0;36m0\u001b[0m\u001b[0;34m]\u001b[0m\u001b[0;34m)\u001b[0m\u001b[0;34m\u001b[0m\u001b[0;34m\u001b[0m\u001b[0m\n\u001b[0m\u001b[1;32m   2171\u001b[0m             \u001b[0;32melse\u001b[0m\u001b[0;34m:\u001b[0m\u001b[0;34m\u001b[0m\u001b[0;34m\u001b[0m\u001b[0m\n\u001b[1;32m   2172\u001b[0m                 res = tuple([array(x, copy=False, subok=True, dtype=t)\n",
      "\u001b[0;31mValueError\u001b[0m: setting an array element with a sequence."
     ]
    }
   ],
   "source": [
    "''' Create data '''\n",
    "\n",
    "mu, sigma = 0, np.array([0.1,0.2,0.5]) # mean and standard deviation\n",
    "print(mu,sigma)\n",
    "\n",
    "def p(s):\n",
    "    rand = np.random.normal(mu, s, 10)\n",
    "    #return np.dstack((rand, s*np.ones(len(rand))))\n",
    "    #return np.array([rand,s],dtype = np.float32)\n",
    "    #return np.append(rand,s)\n",
    "    #ret = np.array([rand,s])\n",
    "    return np.shape(rand)\n",
    "\n",
    "'''def p(s):\n",
    "    def pp(k):\n",
    "        rand = np.random.normal(mu, k, 10)\n",
    "        return np.dstack((rand, k*np.ones(len(rand))))\n",
    "    #return np.array([rand,s],dtype = np.float32)\n",
    "    #return np.append(rand,s)\n",
    "    #ret = np.array([rand,s])\n",
    "    #return np.shape(rand)\n",
    "    return pp(s)'''\n",
    "\n",
    "vecp = np.vectorize(p)\n",
    "\n",
    "data = vecp(sigma)\n",
    "\n",
    "print(data)"
   ]
  },
  {
   "cell_type": "code",
   "execution_count": null,
   "metadata": {},
   "outputs": [],
   "source": []
  }
 ],
 "metadata": {
  "kernelspec": {
   "display_name": "Python 3",
   "language": "python",
   "name": "python3"
  },
  "language_info": {
   "codemirror_mode": {
    "name": "ipython",
    "version": 3
   },
   "file_extension": ".py",
   "mimetype": "text/x-python",
   "name": "python",
   "nbconvert_exporter": "python",
   "pygments_lexer": "ipython3",
   "version": "3.7.3"
  }
 },
 "nbformat": 4,
 "nbformat_minor": 2
}
