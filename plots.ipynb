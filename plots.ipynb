{
 "cells": [
  {
   "cell_type": "markdown",
   "metadata": {},
   "source": [
    "# Here starts the eval script with debugging"
   ]
  },
  {
   "cell_type": "code",
   "execution_count": 4,
   "metadata": {},
   "outputs": [],
   "source": [
    "import argparse\n",
    "import copy\n",
    "import math\n",
    "import sys,os\n",
    "import pandas as pd\n",
    "\n",
    "import numpy as np\n",
    "import torch\n",
    "import torch.nn as nn\n",
    "import torch.nn.functional as F\n",
    "import torch.optim as optim\n",
    "import torch.utils.data\n",
    "from tqdm import tqdm\n",
    "import flows as fnn\n",
    "\n",
    "from eval_model import eval_model\n",
    "from data_loader import load_dataset, load_data # detta är från en separat fil, data_loader.py"
   ]
  },
  {
   "cell_type": "code",
   "execution_count": 5,
   "metadata": {},
   "outputs": [
    {
     "name": "stdout",
     "output_type": "stream",
     "text": [
      "MAF pars 15 128\n"
     ]
    }
   ],
   "source": [
    "innermodel=\"inner_withsig_epoch_9_Model.par\"\n",
    "outermodel=\"outer_withsig_epoch_9_Model.par\"\n",
    "datashift=0\n",
    "\n",
    "# model parameters\n",
    "flow='maf'\n",
    "num_blocks = 15\n",
    "num_hidden = 128\n",
    "lr = 1e-4\n",
    "\n",
    "print('MAF pars',num_blocks,num_hidden)"
   ]
  },
  {
   "cell_type": "code",
   "execution_count": 7,
   "metadata": {},
   "outputs": [
    {
     "name": "stdout",
     "output_type": "stream",
     "text": [
      "[391, 60984, 0.006411517775154139, 1.5833203876933022]\n",
      "[74907, 60368, 1.2408395176252318, 304.87303217364644]\n",
      "[381, 60368, 0.006311290750066261, 1.5506778439686448]\n"
     ]
    }
   ],
   "source": [
    "CUDA = False\n",
    "device = torch.device(\"cuda:0\" if CUDA else \"cpu\")\n",
    "\n",
    "kwargs = {'num_workers': 4, 'pin_memory': True} if CUDA else {}\n",
    "kwargs = {}\n",
    "\n",
    "# panda läser h5-filer\n",
    "features_sig=pd.read_hdf(\"LHCORD_sig_features.h5\")\n",
    "features_bg=pd.read_hdf(\"LHCORD_qcd_features.h5\")\n",
    "\n",
    "# load_data definieras i data_loader.py och returnerar följande:\n",
    "# np.dstack((mjj/1000,mjmin/1000,(mjmax-mjmin)/1000,tau21min,tau21max))[0]\n",
    "# Dvs, en vektor [mjj/1000,mj1/1000,(mj2-mj1)/1000,tau21J1,tau21J2]\n",
    "\n",
    "# laddar in bakgrund och lägger till nollor på slutet av varje event, \n",
    "# för att markera det som bakgrund\n",
    "dataset_bg=load_data(features_bg)\n",
    "dataset_bg=np.hstack((dataset_bg,np.zeros((len(dataset_bg),1)))) \n",
    "\n",
    "# laddar in signal och lägger till ettor på slutet av varje event, \n",
    "# för att markera det som signal\n",
    "dataset_sig=load_data(features_sig)\n",
    "dataset_sig=np.hstack((dataset_sig,np.ones((len(dataset_sig),1))))\n",
    "\n",
    "# Concatenates signal events to background events\n",
    "dataset=np.concatenate((dataset_bg[:500000],dataset_sig[:500])).astype('float32') \n",
    "dataset_test=np.concatenate((dataset_bg[500000:],dataset_sig[500:])).astype('float32') \n",
    "dataset_test_actual=np.concatenate((dataset_bg[500000:],dataset_sig[500:1000])).astype('float32') \n",
    "\n",
    "dataset_shifted=np.copy(dataset)\n",
    "dataset_shifted[:,1]=dataset_shifted[:,1]+datashift*(dataset_shifted[:,0]-3.5)\n",
    "dataset_shifted[:,2]=dataset_shifted[:,2]+datashift*(dataset_shifted[:,0]-3.5)\n",
    "\n",
    "dataset_test_shifted=np.copy(dataset_test)\n",
    "dataset_test_shifted[:,1]=dataset_test_shifted[:,1]+datashift*(dataset_test_shifted[:,0]-3.5)\n",
    "dataset_test_shifted[:,2]=dataset_test_shifted[:,2]+datashift*(dataset_test_shifted[:,0]-3.5)\n",
    "\n",
    "dataset_test_actual_shifted=np.copy(dataset_test_actual)\n",
    "dataset_test_actual_shifted[:,1]=dataset_test_actual_shifted[:,1]+datashift*(dataset_test_actual_shifted[:,0]-3.5)\n",
    "dataset_test_actual_shifted[:,2]=dataset_test_actual_shifted[:,2]+datashift*(dataset_test_actual_shifted[:,0]-3.5)\n",
    "\n",
    "traindict=load_dataset(dataset_shifted)\n",
    "testdict=load_dataset(dataset_test_shifted)\n",
    "testdict_actual=load_dataset(dataset_test_actual_shifted)\n",
    "\n",
    "flow='maf'\n",
    "num_blocks = 15\n",
    "num_hidden = 128\n",
    "lr = 1e-4\n",
    "num_inputs = traindict['all_tensor'].shape[-1]\n",
    "num_cond_inputs = traindict['all_labels'].shape[-1]  # labels are conditional data\n",
    "\n",
    "\n",
    "CUDA = False\n",
    "device = torch.device(\"cuda:0\" if CUDA else \"cpu\")\n",
    "\n",
    "kwargs = {'num_workers': 4, 'pin_memory': True} if CUDA else {}\n",
    "kwargs = {}"
   ]
  },
  {
   "cell_type": "code",
   "execution_count": 8,
   "metadata": {},
   "outputs": [
    {
     "name": "stdout",
     "output_type": "stream",
     "text": [
      "\n"
     ]
    },
    {
     "data": {
      "text/plain": [
       "FlowSequential(\n",
       "  (0): MADE(\n",
       "    (joiner): MaskedLinear(\n",
       "      (linear): Linear(in_features=4, out_features=128, bias=True)\n",
       "      (cond_linear): Linear(in_features=1, out_features=128, bias=False)\n",
       "    )\n",
       "    (trunk): Sequential(\n",
       "      (0): ReLU()\n",
       "      (1): MaskedLinear(\n",
       "        (linear): Linear(in_features=128, out_features=128, bias=True)\n",
       "      )\n",
       "      (2): ReLU()\n",
       "      (3): MaskedLinear(\n",
       "        (linear): Linear(in_features=128, out_features=8, bias=True)\n",
       "      )\n",
       "    )\n",
       "  )\n",
       "  (1): BatchNormFlow()\n",
       "  (2): Reverse()\n",
       "  (3): MADE(\n",
       "    (joiner): MaskedLinear(\n",
       "      (linear): Linear(in_features=4, out_features=128, bias=True)\n",
       "      (cond_linear): Linear(in_features=1, out_features=128, bias=False)\n",
       "    )\n",
       "    (trunk): Sequential(\n",
       "      (0): ReLU()\n",
       "      (1): MaskedLinear(\n",
       "        (linear): Linear(in_features=128, out_features=128, bias=True)\n",
       "      )\n",
       "      (2): ReLU()\n",
       "      (3): MaskedLinear(\n",
       "        (linear): Linear(in_features=128, out_features=8, bias=True)\n",
       "      )\n",
       "    )\n",
       "  )\n",
       "  (4): BatchNormFlow()\n",
       "  (5): Reverse()\n",
       "  (6): MADE(\n",
       "    (joiner): MaskedLinear(\n",
       "      (linear): Linear(in_features=4, out_features=128, bias=True)\n",
       "      (cond_linear): Linear(in_features=1, out_features=128, bias=False)\n",
       "    )\n",
       "    (trunk): Sequential(\n",
       "      (0): ReLU()\n",
       "      (1): MaskedLinear(\n",
       "        (linear): Linear(in_features=128, out_features=128, bias=True)\n",
       "      )\n",
       "      (2): ReLU()\n",
       "      (3): MaskedLinear(\n",
       "        (linear): Linear(in_features=128, out_features=8, bias=True)\n",
       "      )\n",
       "    )\n",
       "  )\n",
       "  (7): BatchNormFlow()\n",
       "  (8): Reverse()\n",
       "  (9): MADE(\n",
       "    (joiner): MaskedLinear(\n",
       "      (linear): Linear(in_features=4, out_features=128, bias=True)\n",
       "      (cond_linear): Linear(in_features=1, out_features=128, bias=False)\n",
       "    )\n",
       "    (trunk): Sequential(\n",
       "      (0): ReLU()\n",
       "      (1): MaskedLinear(\n",
       "        (linear): Linear(in_features=128, out_features=128, bias=True)\n",
       "      )\n",
       "      (2): ReLU()\n",
       "      (3): MaskedLinear(\n",
       "        (linear): Linear(in_features=128, out_features=8, bias=True)\n",
       "      )\n",
       "    )\n",
       "  )\n",
       "  (10): BatchNormFlow()\n",
       "  (11): Reverse()\n",
       "  (12): MADE(\n",
       "    (joiner): MaskedLinear(\n",
       "      (linear): Linear(in_features=4, out_features=128, bias=True)\n",
       "      (cond_linear): Linear(in_features=1, out_features=128, bias=False)\n",
       "    )\n",
       "    (trunk): Sequential(\n",
       "      (0): ReLU()\n",
       "      (1): MaskedLinear(\n",
       "        (linear): Linear(in_features=128, out_features=128, bias=True)\n",
       "      )\n",
       "      (2): ReLU()\n",
       "      (3): MaskedLinear(\n",
       "        (linear): Linear(in_features=128, out_features=8, bias=True)\n",
       "      )\n",
       "    )\n",
       "  )\n",
       "  (13): BatchNormFlow()\n",
       "  (14): Reverse()\n",
       "  (15): MADE(\n",
       "    (joiner): MaskedLinear(\n",
       "      (linear): Linear(in_features=4, out_features=128, bias=True)\n",
       "      (cond_linear): Linear(in_features=1, out_features=128, bias=False)\n",
       "    )\n",
       "    (trunk): Sequential(\n",
       "      (0): ReLU()\n",
       "      (1): MaskedLinear(\n",
       "        (linear): Linear(in_features=128, out_features=128, bias=True)\n",
       "      )\n",
       "      (2): ReLU()\n",
       "      (3): MaskedLinear(\n",
       "        (linear): Linear(in_features=128, out_features=8, bias=True)\n",
       "      )\n",
       "    )\n",
       "  )\n",
       "  (16): BatchNormFlow()\n",
       "  (17): Reverse()\n",
       "  (18): MADE(\n",
       "    (joiner): MaskedLinear(\n",
       "      (linear): Linear(in_features=4, out_features=128, bias=True)\n",
       "      (cond_linear): Linear(in_features=1, out_features=128, bias=False)\n",
       "    )\n",
       "    (trunk): Sequential(\n",
       "      (0): ReLU()\n",
       "      (1): MaskedLinear(\n",
       "        (linear): Linear(in_features=128, out_features=128, bias=True)\n",
       "      )\n",
       "      (2): ReLU()\n",
       "      (3): MaskedLinear(\n",
       "        (linear): Linear(in_features=128, out_features=8, bias=True)\n",
       "      )\n",
       "    )\n",
       "  )\n",
       "  (19): BatchNormFlow()\n",
       "  (20): Reverse()\n",
       "  (21): MADE(\n",
       "    (joiner): MaskedLinear(\n",
       "      (linear): Linear(in_features=4, out_features=128, bias=True)\n",
       "      (cond_linear): Linear(in_features=1, out_features=128, bias=False)\n",
       "    )\n",
       "    (trunk): Sequential(\n",
       "      (0): ReLU()\n",
       "      (1): MaskedLinear(\n",
       "        (linear): Linear(in_features=128, out_features=128, bias=True)\n",
       "      )\n",
       "      (2): ReLU()\n",
       "      (3): MaskedLinear(\n",
       "        (linear): Linear(in_features=128, out_features=8, bias=True)\n",
       "      )\n",
       "    )\n",
       "  )\n",
       "  (22): BatchNormFlow()\n",
       "  (23): Reverse()\n",
       "  (24): MADE(\n",
       "    (joiner): MaskedLinear(\n",
       "      (linear): Linear(in_features=4, out_features=128, bias=True)\n",
       "      (cond_linear): Linear(in_features=1, out_features=128, bias=False)\n",
       "    )\n",
       "    (trunk): Sequential(\n",
       "      (0): ReLU()\n",
       "      (1): MaskedLinear(\n",
       "        (linear): Linear(in_features=128, out_features=128, bias=True)\n",
       "      )\n",
       "      (2): ReLU()\n",
       "      (3): MaskedLinear(\n",
       "        (linear): Linear(in_features=128, out_features=8, bias=True)\n",
       "      )\n",
       "    )\n",
       "  )\n",
       "  (25): BatchNormFlow()\n",
       "  (26): Reverse()\n",
       "  (27): MADE(\n",
       "    (joiner): MaskedLinear(\n",
       "      (linear): Linear(in_features=4, out_features=128, bias=True)\n",
       "      (cond_linear): Linear(in_features=1, out_features=128, bias=False)\n",
       "    )\n",
       "    (trunk): Sequential(\n",
       "      (0): ReLU()\n",
       "      (1): MaskedLinear(\n",
       "        (linear): Linear(in_features=128, out_features=128, bias=True)\n",
       "      )\n",
       "      (2): ReLU()\n",
       "      (3): MaskedLinear(\n",
       "        (linear): Linear(in_features=128, out_features=8, bias=True)\n",
       "      )\n",
       "    )\n",
       "  )\n",
       "  (28): BatchNormFlow()\n",
       "  (29): Reverse()\n",
       "  (30): MADE(\n",
       "    (joiner): MaskedLinear(\n",
       "      (linear): Linear(in_features=4, out_features=128, bias=True)\n",
       "      (cond_linear): Linear(in_features=1, out_features=128, bias=False)\n",
       "    )\n",
       "    (trunk): Sequential(\n",
       "      (0): ReLU()\n",
       "      (1): MaskedLinear(\n",
       "        (linear): Linear(in_features=128, out_features=128, bias=True)\n",
       "      )\n",
       "      (2): ReLU()\n",
       "      (3): MaskedLinear(\n",
       "        (linear): Linear(in_features=128, out_features=8, bias=True)\n",
       "      )\n",
       "    )\n",
       "  )\n",
       "  (31): BatchNormFlow()\n",
       "  (32): Reverse()\n",
       "  (33): MADE(\n",
       "    (joiner): MaskedLinear(\n",
       "      (linear): Linear(in_features=4, out_features=128, bias=True)\n",
       "      (cond_linear): Linear(in_features=1, out_features=128, bias=False)\n",
       "    )\n",
       "    (trunk): Sequential(\n",
       "      (0): ReLU()\n",
       "      (1): MaskedLinear(\n",
       "        (linear): Linear(in_features=128, out_features=128, bias=True)\n",
       "      )\n",
       "      (2): ReLU()\n",
       "      (3): MaskedLinear(\n",
       "        (linear): Linear(in_features=128, out_features=8, bias=True)\n",
       "      )\n",
       "    )\n",
       "  )\n",
       "  (34): BatchNormFlow()\n",
       "  (35): Reverse()\n",
       "  (36): MADE(\n",
       "    (joiner): MaskedLinear(\n",
       "      (linear): Linear(in_features=4, out_features=128, bias=True)\n",
       "      (cond_linear): Linear(in_features=1, out_features=128, bias=False)\n",
       "    )\n",
       "    (trunk): Sequential(\n",
       "      (0): ReLU()\n",
       "      (1): MaskedLinear(\n",
       "        (linear): Linear(in_features=128, out_features=128, bias=True)\n",
       "      )\n",
       "      (2): ReLU()\n",
       "      (3): MaskedLinear(\n",
       "        (linear): Linear(in_features=128, out_features=8, bias=True)\n",
       "      )\n",
       "    )\n",
       "  )\n",
       "  (37): BatchNormFlow()\n",
       "  (38): Reverse()\n",
       "  (39): MADE(\n",
       "    (joiner): MaskedLinear(\n",
       "      (linear): Linear(in_features=4, out_features=128, bias=True)\n",
       "      (cond_linear): Linear(in_features=1, out_features=128, bias=False)\n",
       "    )\n",
       "    (trunk): Sequential(\n",
       "      (0): ReLU()\n",
       "      (1): MaskedLinear(\n",
       "        (linear): Linear(in_features=128, out_features=128, bias=True)\n",
       "      )\n",
       "      (2): ReLU()\n",
       "      (3): MaskedLinear(\n",
       "        (linear): Linear(in_features=128, out_features=8, bias=True)\n",
       "      )\n",
       "    )\n",
       "  )\n",
       "  (40): BatchNormFlow()\n",
       "  (41): Reverse()\n",
       "  (42): MADE(\n",
       "    (joiner): MaskedLinear(\n",
       "      (linear): Linear(in_features=4, out_features=128, bias=True)\n",
       "      (cond_linear): Linear(in_features=1, out_features=128, bias=False)\n",
       "    )\n",
       "    (trunk): Sequential(\n",
       "      (0): ReLU()\n",
       "      (1): MaskedLinear(\n",
       "        (linear): Linear(in_features=128, out_features=128, bias=True)\n",
       "      )\n",
       "      (2): ReLU()\n",
       "      (3): MaskedLinear(\n",
       "        (linear): Linear(in_features=128, out_features=8, bias=True)\n",
       "      )\n",
       "    )\n",
       "  )\n",
       "  (43): BatchNormFlow()\n",
       "  (44): Reverse()\n",
       ")"
      ]
     },
     "execution_count": 8,
     "metadata": {},
     "output_type": "execute_result"
    }
   ],
   "source": [
    "# Define model\n",
    "act = 'relu'\n",
    "\n",
    "modules = []\n",
    "for _ in range(num_blocks):\n",
    "    modules += [\n",
    "        fnn.MADE(num_inputs, num_hidden, num_cond_inputs, act=act),\n",
    "        fnn.BatchNormFlow(num_inputs),\n",
    "        fnn.Reverse(num_inputs)\n",
    "    ]\n",
    "\n",
    "outer_model = fnn.FlowSequential(*modules)\n",
    "for module in outer_model.modules():\n",
    "    if isinstance(module, nn.Linear):\n",
    "        nn.init.orthogonal_(module.weight)\n",
    "        if hasattr(module, 'bias') and module.bias is not None:\n",
    "            module.bias.data.fill_(0)\n",
    "outer_model.to(device)\n",
    "            \n",
    "\n",
    "modules = []\n",
    "for _ in range(num_blocks):\n",
    "    modules += [\n",
    "        fnn.MADE(num_inputs, num_hidden, num_cond_inputs, act=act),\n",
    "        fnn.BatchNormFlow(num_inputs),\n",
    "        fnn.Reverse(num_inputs)\n",
    "    ]\n",
    "\n",
    "    \n",
    "inner_model = fnn.FlowSequential(*modules)\n",
    "for module in inner_model.modules():\n",
    "    if isinstance(module, nn.Linear):\n",
    "        nn.init.orthogonal_(module.weight)\n",
    "        if hasattr(module, 'bias') and module.bias is not None:\n",
    "            module.bias.data.fill_(0)\n",
    "inner_model.to(device)\n",
    "\n",
    "\n",
    "print()\n",
    "\n",
    "#latest_run=\"runs/Dec02_01-40-38_pascal.physics.rutgers.edumaf_LHCORD\" #run with logit and standardization, using inner, larger network, SHIFTED DATASET\n",
    "\n",
    "outer_model.load_state_dict(torch.load(outermodel, map_location='cpu'))\n",
    "inner_model.load_state_dict(torch.load(innermodel, map_location='cpu'))\n",
    "\n",
    "outer_model.eval()\n",
    "inner_model.eval()\n"
   ]
  },
  {
   "cell_type": "code",
   "execution_count": 9,
   "metadata": {},
   "outputs": [],
   "source": [
    "logPfull_actual=eval_model(inner_model,testdict_actual['inner_loader'],device,\n",
    "           transform=(traindict['inner_max'],traindict['inner_min'],traindict['inner_mean2'],traindict['inner_std2']))\n",
    "logPbg_actual=eval_model(outer_model,testdict_actual['inner_loader'],device,\n",
    "       transform=(traindict['outer_max'],traindict['outer_min'],traindict['outer_mean2'],traindict['outer_std2']))    \n",
    "inner_tensor_test_actual_rescaled=(testdict_actual['inner_tensor']-traindict['inner_min'])\\\n",
    "    /((traindict['inner_max']-traindict['inner_min']))"
   ]
  },
  {
   "cell_type": "code",
   "execution_count": 10,
   "metadata": {},
   "outputs": [
    {
     "name": "stderr",
     "output_type": "stream",
     "text": [
      "/opt/anaconda3/lib/python3.7/site-packages/ipykernel_launcher.py:2: RuntimeWarning: invalid value encountered in greater\n",
      "  \n"
     ]
    }
   ],
   "source": [
    "boxcut_test_actual=np.all(inner_tensor_test_actual_rescaled.numpy()>0.05,axis=1) & \\\n",
    "    np.all(inner_tensor_test_actual_rescaled.numpy()<.95,axis=1) & (logPbg_actual>-2) "
   ]
  },
  {
   "cell_type": "markdown",
   "metadata": {},
   "source": [
    "### Here I find the NaNs that are still in logPbg AND logPfull"
   ]
  },
  {
   "cell_type": "code",
   "execution_count": 63,
   "metadata": {},
   "outputs": [
    {
     "name": "stdout",
     "output_type": "stream",
     "text": [
      "[[12974]\n",
      " [34862]\n",
      " [41542]\n",
      " [47097]\n",
      " [55400]] \n",
      "\n",
      " [[  338]\n",
      " [12974]\n",
      " [21654]\n",
      " [34862]\n",
      " [39402]\n",
      " [41542]\n",
      " [47097]\n",
      " [47897]\n",
      " [48402]\n",
      " [50686]\n",
      " [53114]\n",
      " [55400]\n",
      " [58828]]\n"
     ]
    }
   ],
   "source": [
    "pbg_nans = np.argwhere(np.isnan(logPbg_actual))\n",
    "pfull_nans = np.argwhere(np.isnan(logPfull_actual))\n",
    "print(pbg_nans,'\\n\\n',pfull_nans)"
   ]
  },
  {
   "cell_type": "code",
   "execution_count": 56,
   "metadata": {},
   "outputs": [
    {
     "data": {
      "text/plain": [
       "array([[ 2],\n",
       "       [ 3],\n",
       "       [ 4],\n",
       "       [ 5],\n",
       "       [ 6],\n",
       "       [10],\n",
       "       [12],\n",
       "       [13]])"
      ]
     },
     "execution_count": 56,
     "metadata": {},
     "output_type": "execute_result"
    }
   ],
   "source": [
    "arr = np.array([4, 5, 6, 7, 8, 9, 10, 11, 4, 5, 6, 33, 6, 7])\n",
    "np.argwhere((arr >= 6) & (arr <= 10) )"
   ]
  },
  {
   "cell_type": "code",
   "execution_count": 58,
   "metadata": {},
   "outputs": [
    {
     "data": {
      "text/plain": [
       "array([ 4,  5, 11,  4,  5, 33])"
      ]
     },
     "execution_count": 58,
     "metadata": {},
     "output_type": "execute_result"
    }
   ],
   "source": [
    "np.delete(arr,np.argwhere((arr >= 6) & (arr <= 10) ))"
   ]
  },
  {
   "cell_type": "code",
   "execution_count": 51,
   "metadata": {},
   "outputs": [
    {
     "data": {
      "text/plain": [
       "array([[  338],\n",
       "       [12974],\n",
       "       [21654],\n",
       "       [34862],\n",
       "       [39402],\n",
       "       [41542],\n",
       "       [47097],\n",
       "       [47897],\n",
       "       [48402],\n",
       "       [50686],\n",
       "       [53114],\n",
       "       [55400],\n",
       "       [58828]])"
      ]
     },
     "execution_count": 51,
     "metadata": {},
     "output_type": "execute_result"
    }
   ],
   "source": [
    "pfull_nans = np.argwhere(np.isnan(logPfull_actual))"
   ]
  },
  {
   "cell_type": "markdown",
   "metadata": {},
   "source": [
    "# Plot some features"
   ]
  },
  {
   "cell_type": "code",
   "execution_count": 12,
   "metadata": {},
   "outputs": [],
   "source": [
    "import matplotlib.pyplot as plt\n",
    "import pandas as pd"
   ]
  },
  {
   "cell_type": "code",
   "execution_count": 13,
   "metadata": {},
   "outputs": [],
   "source": [
    "features_sig=pd.read_hdf(\"LHCORD_sig_features.h5\") #ladda in datafilen mha pandas\n",
    "features_bg=pd.read_hdf(\"LHCORD_qcd_features.h5\")"
   ]
  },
  {
   "cell_type": "code",
   "execution_count": 14,
   "metadata": {},
   "outputs": [
    {
     "data": {
      "image/png": "[encoded data removed]",
      "text/plain": [
       "<Figure size 432x288 with 1 Axes>"
      ]
     },
     "metadata": {
      "needs_background": "light"
     },
     "output_type": "display_data"
    }
   ],
   "source": [
    "plt.hist(features_bg['mj1'][500000:], bins = 100, fc=(1, 0, 0, 0.5), alpha=0.5, label='background')\n",
    "plt.hist(features_sig['mj1'][:1000], bins = 100, fc=(0, 0, 1, 0.5), alpha=0.5, label='signal')\n",
    "plt.yscale('log')\n",
    "plt.legend(loc='upper right')\n",
    "plt.xlabel('m J1 [GeV]')\n",
    "plt.ylabel('Events')\n",
    "plt.show()"
   ]
  },
  {
   "cell_type": "code",
   "execution_count": 15,
   "metadata": {},
   "outputs": [
    {
     "data": {
      "image/png": "[encoded data removed]",
      "text/plain": [
       "<Figure size 432x288 with 1 Axes>"
      ]
     },
     "metadata": {
      "needs_background": "light"
     },
     "output_type": "display_data"
    }
   ],
   "source": [
    "plt.hist((features_bg['mj2'][:500000]-features_bg['mj1'][:500000]), bins = 200, fc=(1, 0, 0, 0.5), alpha=0.5, label='background')\n",
    "plt.hist((features_sig['mj2'][:1000]-features_sig['mj1'][:1000]), bins = 200, fc=(0, 0, 1, 0.5), alpha=0.5, label='signal')\n",
    "plt.yscale('log')\n",
    "plt.xlim(0,1000)\n",
    "plt.legend(loc='upper right')\n",
    "plt.xlabel('m J2 - m J1 [GeV]')\n",
    "plt.ylabel('Events')\n",
    "plt.show()"
   ]
  },
  {
   "cell_type": "markdown",
   "metadata": {},
   "source": [
    "# Calculate R(x|m)"
   ]
  },
  {
   "cell_type": "markdown",
   "metadata": {},
   "source": [
    "### Load the output from the training and exponentiate"
   ]
  },
  {
   "cell_type": "code",
   "execution_count": 14,
   "metadata": {},
   "outputs": [],
   "source": [
    "pfull_actual = np.load('outer_withsig_epoch_9_Model.par_logPfull_actual.npy')"
   ]
  },
  {
   "cell_type": "code",
   "execution_count": 15,
   "metadata": {},
   "outputs": [],
   "source": [
    "pbg_actual = np.load('outer_withsig_epoch_9_Model.par_logPbg_actual.npy')"
   ]
  },
  {
   "cell_type": "code",
   "execution_count": 16,
   "metadata": {},
   "outputs": [],
   "source": [
    "xp_pfull=np.exp(pfull_actual)\n",
    "xp_pbg=np.exp(pbg_actual)"
   ]
  },
  {
   "cell_type": "markdown",
   "metadata": {},
   "source": [
    "### Isolate the signal region in the dataset "
   ]
  },
  {
   "cell_type": "code",
   "execution_count": 17,
   "metadata": {},
   "outputs": [
    {
     "data": {
      "text/plain": [
       "3.3072193874436437"
      ]
     },
     "execution_count": 17,
     "metadata": {},
     "output_type": "execute_result"
    }
   ],
   "source": [
    "dataset_bg[0,0] # First index is the row, second index gives the mJJ element"
   ]
  },
  {
   "cell_type": "code",
   "execution_count": 18,
   "metadata": {},
   "outputs": [],
   "source": [
    "# Delete all rows of dataset_test_actual where the first element is outside \n",
    "# [3.3, 3.7], and save as a new array\n",
    "sr_dataset = dataset_test_actual[(dataset_test_actual[:,0] >= 3.3) & (dataset_test_actual[:,0] <= 3.7),:]"
   ]
  },
  {
   "cell_type": "code",
   "execution_count": 19,
   "metadata": {},
   "outputs": [
    {
     "data": {
      "text/plain": [
       "60749"
      ]
     },
     "execution_count": 19,
     "metadata": {},
     "output_type": "execute_result"
    }
   ],
   "source": [
    "len(sr_dataset)"
   ]
  },
  {
   "cell_type": "code",
   "execution_count": 20,
   "metadata": {},
   "outputs": [],
   "source": [
    "sr_dataset_sig = sr_dataset[sr_dataset[:,5] > 0.5,:]\n",
    "sr_dataset_bg = sr_dataset[sr_dataset[:,5] < 0.5,:]"
   ]
  },
  {
   "cell_type": "code",
   "execution_count": 21,
   "metadata": {},
   "outputs": [
    {
     "data": {
      "text/plain": [
       "381"
      ]
     },
     "execution_count": 21,
     "metadata": {},
     "output_type": "execute_result"
    }
   ],
   "source": [
    "len(sr_dataset_sig)"
   ]
  },
  {
   "cell_type": "code",
   "execution_count": 22,
   "metadata": {},
   "outputs": [
    {
     "data": {
      "text/plain": [
       "60368"
      ]
     },
     "execution_count": 22,
     "metadata": {},
     "output_type": "execute_result"
    }
   ],
   "source": [
    "len(sr_dataset_bg)"
   ]
  },
  {
   "cell_type": "markdown",
   "metadata": {},
   "source": [
    "### Calculate R for signal and for background "
   ]
  },
  {
   "cell_type": "code",
   "execution_count": 23,
   "metadata": {},
   "outputs": [],
   "source": [
    "rx_bg=xp_pfull[0:60368]/xp_pbg[0:60368]"
   ]
  },
  {
   "cell_type": "code",
   "execution_count": 24,
   "metadata": {},
   "outputs": [],
   "source": [
    "rx_sig=xp_pfull[60368:]/xp_pbg[60368:]"
   ]
  },
  {
   "cell_type": "code",
   "execution_count": 79,
   "metadata": {},
   "outputs": [
    {
     "data": {
      "text/plain": [
       "array([[34529]])"
      ]
     },
     "execution_count": 79,
     "metadata": {},
     "output_type": "execute_result"
    }
   ],
   "source": [
    "np.argwhere(np.isinf(rx_bg))"
   ]
  },
  {
   "cell_type": "markdown",
   "metadata": {},
   "source": [
    "### Plot R for signal events "
   ]
  },
  {
   "cell_type": "code",
   "execution_count": 25,
   "metadata": {},
   "outputs": [
    {
     "name": "stderr",
     "output_type": "stream",
     "text": [
      "'c' argument looks like a single numeric RGB or RGBA sequence, which should be avoided as value-mapping will have precedence in case its length matches with 'x' & 'y'.  Please use a 2-D array with a single row if you really want to specify the same RGB or RGBA value for all points.\n"
     ]
    },
    {
     "data": {
      "image/png": "[encoded data removed]",
      "text/plain": [
       "<Figure size 432x288 with 1 Axes>"
      ]
     },
     "metadata": {
      "needs_background": "light"
     },
     "output_type": "display_data"
    }
   ],
   "source": [
    "x = pbg_actual[60368:]\n",
    "y = rx_sig\n",
    "area = np.pi*3\n",
    "col = (1,0,0)\n",
    "\n",
    "# Plot\n",
    "plt.scatter(x, y, s=area, c=(1,0,0), alpha=0.5)\n",
    "plt.title('Scatter plot')\n",
    "plt.xlabel('log p background')\n",
    "plt.ylabel('R(x|m) signal')\n",
    "#plt.xlim(-2,5)\n",
    "#plt.ylim(0,5)\n",
    "plt.show()"
   ]
  },
  {
   "cell_type": "code",
   "execution_count": 28,
   "metadata": {},
   "outputs": [
    {
     "name": "stderr",
     "output_type": "stream",
     "text": [
      "'c' argument looks like a single numeric RGB or RGBA sequence, which should be avoided as value-mapping will have precedence in case its length matches with 'x' & 'y'.  Please use a 2-D array with a single row if you really want to specify the same RGB or RGBA value for all points.\n"
     ]
    },
    {
     "data": {
      "image/png": "[encoded data removed]",
      "text/plain": [
       "<Figure size 432x288 with 1 Axes>"
      ]
     },
     "metadata": {
      "needs_background": "light"
     },
     "output_type": "display_data"
    }
   ],
   "source": [
    "x = pbg_actual[60368:]\n",
    "y = rx_sig\n",
    "area = np.pi*3\n",
    "col = (1,0,0)\n",
    "\n",
    "# Plot\n",
    "plt.scatter(x, y, s=area, c=(1,0,0), alpha=0.5)\n",
    "plt.title('Scatter plot')\n",
    "plt.xlabel('log p background')\n",
    "plt.ylabel('R(x|m) signal')\n",
    "plt.xlim(-2,5)\n",
    "plt.ylim(0,5)\n",
    "plt.show()"
   ]
  },
  {
   "cell_type": "code",
   "execution_count": 68,
   "metadata": {},
   "outputs": [],
   "source": [
    "logPbg_No_NaNs = np.delete(pbg_actual,pfull_nans)"
   ]
  },
  {
   "cell_type": "code",
   "execution_count": 87,
   "metadata": {},
   "outputs": [],
   "source": [
    "rx_bg_No_NaNs = np.delete(rx_bg,pfull_nans)\n",
    "rx_bg_No_infs = np.delete(rx_bg_No_NaNs,np.argwhere(np.isinf(rx_bg_No_NaNs)))"
   ]
  },
  {
   "cell_type": "code",
   "execution_count": 88,
   "metadata": {},
   "outputs": [
    {
     "name": "stdout",
     "output_type": "stream",
     "text": [
      "60736 60354\n"
     ]
    }
   ],
   "source": [
    "print(len(logPbg_No_NaNs),len(rx_bg_No_infs))"
   ]
  },
  {
   "cell_type": "code",
   "execution_count": 89,
   "metadata": {},
   "outputs": [
    {
     "name": "stdout",
     "output_type": "stream",
     "text": [
      "-2581.7258 0.0012432887\n",
      "5.5224733 1946732.1\n"
     ]
    }
   ],
   "source": [
    "print(np.min(logPbg_No_NaNs),np.min(rx_bg_No_infs))\n",
    "print(np.max(logPbg_No_NaNs),np.max(rx_bg_No_infs))"
   ]
  },
  {
   "cell_type": "code",
   "execution_count": 106,
   "metadata": {},
   "outputs": [
    {
     "data": {
      "image/png": "[encoded data removed]",
      "text/plain": [
       "<Figure size 720x504 with 1 Axes>"
      ]
     },
     "metadata": {
      "needs_background": "light"
     },
     "output_type": "display_data"
    }
   ],
   "source": [
    "import numpy as np \n",
    "import matplotlib.pyplot as plt \n",
    "  \n",
    "# Creating dataset \n",
    "x = logPbg_No_NaNs[:60354]\n",
    "y = rx_bg_No_infs\n",
    "  \n",
    "# Creating bins \n",
    "x_min = -2 \n",
    "x_max = 6\n",
    "  \n",
    "y_min = -1 \n",
    "y_max = 6 \n",
    "  \n",
    "x_bins = np.linspace(x_min, x_max, 100) \n",
    "y_bins = np.linspace(y_min, y_max, 100) \n",
    "  \n",
    "fig = plt.subplots(figsize =(10, 7)) \n",
    "# Creating plot \n",
    "plt.hist2d(x, y, bins=[x_bins,y_bins], cmap='binary') \n",
    "plt.scatter(xs, ys, s=area, c=(1,0,0), alpha=0.5)\n",
    "plt.title(\"R(x|m) for background\") \n",
    "plt.xlim(-2,5)\n",
    "plt.ylim(0,5)\n",
    "  \n",
    "# show plot \n",
    "plt.show() "
   ]
  },
  {
   "cell_type": "code",
   "execution_count": null,
   "metadata": {},
   "outputs": [],
   "source": []
  }
 ],
 "metadata": {
  "kernelspec": {
   "display_name": "Python 3",
   "language": "python",
   "name": "python3"
  },
  "language_info": {
   "codemirror_mode": {
    "name": "ipython",
    "version": 3
   },
   "file_extension": ".py",
   "mimetype": "text/x-python",
   "name": "python",
   "nbconvert_exporter": "python",
   "pygments_lexer": "ipython3",
   "version": "3.7.3"
  }
 },
 "nbformat": 4,
 "nbformat_minor": 2
}
